{
 "cells": [
  {
   "cell_type": "markdown",
   "metadata": {},
   "source": [
    "# REDA1-CE1000: Introduction to Real Estate Data Analytics"
   ]
  },
  {
   "cell_type": "markdown",
   "metadata": {},
   "source": [
    "## Week 5\n",
    "\n",
    "\n",
    "\n",
    "### 5.1: The Zestimate: House Pricing Using Hedonics\n",
    "\n",
    "\n",
    "\n",
    "### 5.2: The Linear Probability Model: Making Predictions (Rather than Evaluating the Impact of an Intervention) \n",
    "\n",
    "\n",
    "\n",
    "### 5.3: Breaking the Algorithm: Omitted Variable Bias"
   ]
  },
  {
   "cell_type": "markdown",
   "metadata": {},
   "source": [
    "## Notes"
   ]
  },
  {
   "cell_type": "markdown",
   "metadata": {},
   "source": [
    "### This is evidence of omitted variable bias (sometimes called the \"collinearity problem\")\n",
    "* Failing to include land_size has biased up the measured effect of unit_size because the two features are positively correlated.\n",
    "\n",
    "\n",
    "\n",
    "* The two features, however, have independent effects on sales prices.\n",
    "\n",
    "\n",
    "\n",
    "* In this example, we can compare the R-squared measures across the two models because one is nested in the other.  \n",
    "\n",
    "\n",
    "\n",
    "* We see that the R$^2$ rises from 0.302 to 0.387, indicating a considerable improvement in the fit of the data."
   ]
  },
  {
   "cell_type": "markdown",
   "metadata": {},
   "source": [
    "### More features\n",
    "* Now let's examine what happens when we account for the age of the dwelling at the date of sale.\n",
    "\n",
    "\n",
    "\n",
    "* Thoughts about how age might affect sales prices?\n",
    "\n",
    "\n",
    "\n",
    "* Negative impact: old houses (of equal size) have lower sales prices.\n",
    "\n",
    "\n",
    "\n",
    "* Note, however, that there is little impact on the effects of the other features when we add age to the model."
   ]
  },
  {
   "cell_type": "markdown",
   "metadata": {},
   "source": [
    "### Indicator Variables: Supervised to Semi-supervised\n",
    "\n",
    "* Indicator variables capture potential *discontinuities* in a function.\n",
    "\n",
    "\n",
    "\n",
    "* Todt Hill is **an upscale area** in Staten Island.\n",
    "\n",
    "\n",
    "\n",
    "* Suppose we want to capture this feature of the data, which we can do using the indicator \"todt\". \n",
    "\n",
    "\n",
    "\n",
    "* 3.574e+05 = 357,400 dollar premium in Todt Hill for any randomly chosen house."
   ]
  },
  {
   "cell_type": "markdown",
   "metadata": {},
   "source": [
    "### Introducing Non-Linearities to the Linear Model\n",
    "\n",
    "* Suppose we want to consider the potential of non-linearities in $y=f(x)$.\n",
    "\n",
    "\n",
    "\n",
    "* We can use the linear model to do so, but must consider the calculus behind it.\n",
    "\n",
    "\n",
    "\n",
    "* One conjecture is that age has a diminishing effect on sales prices.\n",
    "\n",
    "\n",
    "\n",
    "* How to capture this conjecture?"
   ]
  },
  {
   "cell_type": "markdown",
   "metadata": {},
   "source": [
    "### How to Interpret?\n",
    "\n",
    "* Recall: A model with $K$ features, $x_{ik}$ and label $y_i$: $y_i=\\sum_{k=1}^Kx_{ik}\\cdot\\beta_k+\\epsilon_i = x_i^\\prime \\beta + \\epsilon_i$\n",
    "\n",
    "\n",
    "\n",
    "$\\displaystyle{\\frac{\\partial{E(\\hat y_i})}{\\partial{x_{ik}}}=\\hat{\\beta_k}}$\n",
    "\n",
    "\n",
    "\n",
    "$\\displaystyle{\\frac{\\partial{E(\\text{sales price}})}{\\partial{\\text{age}}}=\\hat{\\beta_\\text{age}} + 2\\cdot\\hat{\\beta_\\text{age2}}\\cdot{\\text{age}} = 997 - 2\\cdot17\\cdot\\text{age} = 997 - 34\\cdot\\text{age}}$\n",
    "\n",
    "\n",
    "\n",
    "* The average age of a house in our data is 36 years, so $997 - 34*36 = 997 - 1224 = -227$.  Therefore, when a house hits its average age, its value is declining every year.  \n",
    "\n",
    "\n",
    "\n",
    "* Indeed, we can solve the simple algebra problem, $997 - 34*age = 0$, for age to obtain $\\text{age}\\approx29$.  For the first 29 years, house prices on average rise for each year, and then begin to decline for subsequent years."
   ]
  },
  {
   "cell_type": "markdown",
   "metadata": {},
   "source": [
    "### Let's Examine These Results\n",
    "\n",
    "\n",
    "\n",
    "* Prices appear to be linear in **unit size**.\n",
    "\n",
    "\n",
    "\n",
    "* Prices appear to be quadratic in **land size**: a positive but diminishing effect.  At what point does the positive effect disappear?\n",
    "\n",
    "\n",
    "\n",
    "* Prices appear to be quadatric in **age**: initially rising and then falling in age as houses reach the sample's average age."
   ]
  },
  {
   "cell_type": "markdown",
   "metadata": {},
   "source": [
    "### Feature Engineering: Unit-Free Elasticities\n",
    "\n",
    "\n",
    "\n",
    "* It may be of use to engineer your features so that results are unit free.\n",
    "\n",
    "\n",
    "\n",
    "* The interpretation is: for at 1% change in the feature, what is the % change in the label.\n",
    "\n",
    "\n",
    "\n",
    "* This can be achieved by tranforming the feature and labels using logarithms."
   ]
  },
  {
   "cell_type": "markdown",
   "metadata": {},
   "source": [
    "### Let's Examine These Results\n",
    "\n",
    "* A 10% change in unit size increases sales price by 3.4%.\n",
    "\n",
    "\n",
    "\n",
    "* A 10% change in land size increases sales price by 2.6%.\n",
    "\n",
    "\n",
    "\n",
    "* A 10% change in age decreases sales prices by 0.5%.\n",
    "\n",
    "\n",
    "\n",
    "* Prices in Todt Hill are about 44% higher holding all else constant.\n",
    "\n",
    "\n",
    "\n",
    "* Is this model directly comparable to the one above?\n",
    "    * No because we **non-linearly transformed** both the label and the features."
   ]
  }
 ],
 "metadata": {
  "kernelspec": {
   "display_name": "Python 3",
   "language": "python",
   "name": "python3"
  },
  "language_info": {
   "codemirror_mode": {
    "name": "ipython",
    "version": 3
   },
   "file_extension": ".py",
   "mimetype": "text/x-python",
   "name": "python",
   "nbconvert_exporter": "python",
   "pygments_lexer": "ipython3",
   "version": "3.7.2"
  }
 },
 "nbformat": 4,
 "nbformat_minor": 2
}
