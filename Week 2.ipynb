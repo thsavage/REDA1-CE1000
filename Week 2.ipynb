{
 "cells": [
  {
   "cell_type": "markdown",
   "metadata": {},
   "source": [
    "# REDA1-CE1000: Introduction to Real Estate Data Analytics"
   ]
  },
  {
   "cell_type": "markdown",
   "metadata": {},
   "source": [
    "## Week 2: Foundational Concepts in Probability and Statistics"
   ]
  },
  {
   "cell_type": "markdown",
   "metadata": {},
   "source": [
    "### Purpose\n",
    "* Introduce you to important concepts that allow us to operationalize ideas such as **Data Generating Processes** (or DGPs).\n",
    "    * **All of this can be done using material you have already seen in RE Finance, RE Capital Markets or RPM.**\n",
    "    * Ideally these concepts will help \n",
    "* Painful but **necessary**.\n",
    "    * We should pay respect for the 300 years of history that has brought us here.\n",
    "* **These ideas should complement your understanding of real estate finance.**"
   ]
  },
  {
   "cell_type": "markdown",
   "metadata": {},
   "source": [
    "### Geltner Ex 9-1: Probability Distribution Functions\n",
    "* I am an economist, and I have never *seen* a demand curve.  (I have deployed the tools we will cover in this class to estimate their shape, as measured by a demand elasticity.)\n",
    "* Distribution functions are mathematical abstractions (like demand curves).\n",
    "* They help us think about important concepts in probability and measures, such as **moments**."
   ]
  },
  {
   "cell_type": "markdown",
   "metadata": {},
   "source": [
    "### Geltner Ex 9-2: Expected Returns (Averages) and Risk (Variances or Standard Deviations)\n",
    "* Historically called measures of central tendancy or \"moments\".  \n",
    "    * Another mathematical abstraction is the *moment generating function*.\n",
    "* An average is a first moment.\n",
    "* A variance is a second moment."
   ]
  },
  {
   "cell_type": "markdown",
   "metadata": {},
   "source": [
    "### What is Probability?\n",
    "* Classical view arose from gambling with dice and holds that outcomes have equal probabilty.\n",
    "* Subjective view uses a model with randomness such as the payoff to a particular gamble.\n",
    "* Classical view holds that probability is based on the history of outcomes from an experiment, such as the probability the stock market goes up tomorrow or P(stock market goes up tomorrow)."
   ]
  },
  {
   "cell_type": "markdown",
   "metadata": {},
   "source": [
    "### Components of an Experiment\n",
    "\n",
    "#### Sample spaces, $S$, which are the set of all possible outcomes.\n",
    "\n",
    "Examples: \n",
    "\n",
    "1. Flipping a US penny, $S=\\{Heads,Tails\\}$\n",
    "\n",
    "2. Throwing a die, $S=\\{1,2,3,4,5,6\\}$\n",
    "\n",
    "3. Throwing two dice, $S=\\{i,j\\}: i,j=1,2,3,4,5,6$\n",
    "\n",
    "#### Events, $A$, which are any subset of $S$\n",
    "\n",
    "Examples: \n",
    "\n",
    "1. $\\text{Heads from } \\{Heads,Tails\\}$\n",
    "\n",
    "2. $2 \\text{ from } \\{1,2,3,4,5,6\\}$\n",
    "\n",
    "#### Probability \n",
    "\n",
    "$P: A\\rightarrow[0,1]$ or $P(A)$\n",
    "\n",
    "\n",
    "#### Properites of Probability\n",
    "\n",
    "1. The probability of an event occuring lies between 0 and 1: $P(A)\\in[0,1]$\n",
    "\n",
    "2. The probability of the sample space occurring is 1: $P(S)=1$\n",
    "\n",
    "3. Summation: $P(A \\bigcup B) = P(A) + P(B)$ for independent events\n",
    "\n",
    "4. Conditioning: $P(A|B) = P(A)$ for independent events\n",
    "\n",
    "5. Complimentary: $P(A^c) = 1-P(A)$"
   ]
  },
  {
   "cell_type": "markdown",
   "metadata": {},
   "source": [
    "### Random Variables\n",
    "\n",
    "We operationalize this through the use of **Random Variables** (both discrete and continuous) and examine important characteristics of these animals (moments) such as \n",
    "\n",
    "* Distribution Functions (Ex. 9-1 of *Geltner et al.*)\n",
    "* Measures of Central Tendency \n",
    "    * Mean \n",
    "    * Variance (standard error)\n",
    "    * Covariance or correlation (when we have more than one RV)\n",
    "* **These are simply methods of statistical accounting**\n",
    "\n",
    "### Mathematics of Central Tendency\n",
    "\n",
    "*All data analtyics drives toward the summarization of information that we call data*.  On occasion, we call this **dimensionality reduction**.\n",
    "\n",
    "Let $X$ denote a **Random Variable** and $x$ denote an event.  We seek to summarize important components through **dimensionality reduction**.\n",
    "\n",
    "Population Average:\n",
    "\n",
    "$\\mu=E[X]=\\sum P(X=x) \\cdot x$\n",
    "\n",
    "Population Variance:\n",
    "\n",
    "$\\sigma^2=Var[X]=E[(X-E[X])^2]=\\sum_k P(X=x) \\cdot (x-\\mu)^2$\n",
    "\n",
    "Population Standard Deviation:\n",
    "\n",
    "$\\sigma=\\sqrt{\\sigma^2}$\n",
    "\n",
    "Coefficient of Variation:\n",
    "\n",
    "$c_v=\\frac{\\sigma}{\\mu}$\n",
    "\n",
    "Bill Sharpe's Ratio (inverse of CoV to express return per unit of risk:\n",
    "\n",
    "$S_r=\\frac{\\mu}{\\sigma}$\n",
    "\n",
    "Let $Y$ denote a different **Random Variable** and $y$ denote an event.\n",
    "\n",
    "$Cov(X, Y) = E[X-\\mu_x][Y-\\mu_y]$\n",
    "\n",
    "$Corr(X, y) = \\frac{Cov(X, Y)}{\\sigma_x \\cdot \\sigma_y} \\in (-1, 1)$"
   ]
  },
  {
   "cell_type": "markdown",
   "metadata": {},
   "source": [
    "### Measures of Central Tendancy (Means and Variances): R Example"
   ]
  },
  {
   "cell_type": "markdown",
   "metadata": {},
   "source": [
    "### The Normal Distribution: Nature's Distribution"
   ]
  },
  {
   "cell_type": "markdown",
   "metadata": {},
   "source": [
    "### Returns on Two Assets: The Bivariate Normal"
   ]
  },
  {
   "cell_type": "markdown",
   "metadata": {},
   "source": [
    "### A Hint: Why We Test Against the Normal"
   ]
  }
 ],
 "metadata": {
  "kernelspec": {
   "display_name": "Python 3",
   "language": "python",
   "name": "python3"
  },
  "language_info": {
   "codemirror_mode": {
    "name": "ipython",
    "version": 3
   },
   "file_extension": ".py",
   "mimetype": "text/x-python",
   "name": "python",
   "nbconvert_exporter": "python",
   "pygments_lexer": "ipython3",
   "version": "3.7.2"
  }
 },
 "nbformat": 4,
 "nbformat_minor": 2
}
