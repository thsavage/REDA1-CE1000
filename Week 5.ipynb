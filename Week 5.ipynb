{
 "cells": [
  {
   "cell_type": "markdown",
   "metadata": {},
   "source": [
    "# REDA1-CE1000: Introduction to Real Estate Data Analytics"
   ]
  },
  {
   "cell_type": "markdown",
   "metadata": {},
   "source": [
    "## Week 5\n",
    "\n",
    "\n",
    "\n",
    "### The Zestimate: House Pricing Using Hedonics\n",
    "\n",
    "\n",
    "\n",
    "### The Linear Probability Model: Making Predictions (Rather than Evaluating the Impact of an Intervention) \n",
    "\n",
    "\n",
    "\n",
    "### Breaking the Algorithm: Omitted Variable Bias"
   ]
  }
 ],
 "metadata": {
  "kernelspec": {
   "display_name": "Python 3",
   "language": "python",
   "name": "python3"
  },
  "language_info": {
   "codemirror_mode": {
    "name": "ipython",
    "version": 3
   },
   "file_extension": ".py",
   "mimetype": "text/x-python",
   "name": "python",
   "nbconvert_exporter": "python",
   "pygments_lexer": "ipython3",
   "version": "3.7.2"
  }
 },
 "nbformat": 4,
 "nbformat_minor": 2
}
